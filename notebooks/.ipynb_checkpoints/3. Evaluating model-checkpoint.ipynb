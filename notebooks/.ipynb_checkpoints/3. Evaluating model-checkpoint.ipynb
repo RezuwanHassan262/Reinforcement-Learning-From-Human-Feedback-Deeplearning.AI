{
 "cells": [
  {
   "cell_type": "markdown",
   "id": "9cc3b6de",
   "metadata": {},
   "source": [
    "# Lesson 4: Evaluate the Tuned Model"
   ]
  },
  {
   "cell_type": "markdown",
   "id": "0f596bbd",
   "metadata": {},
   "source": [
    "#### Project environment setup\n",
    "\n",
    "- Install Tensorboard (if running locally)\n",
    "```Python\n",
    "!pip install tensorboard\n",
    "```"
   ]
  },
  {
   "cell_type": "code",
   "execution_count": null,
   "id": "5feb88c8-95ff-4836-8f34-a2cb216fc653",
   "metadata": {},
   "outputs": [],
   "source": [
    "!pip install tensorboard"
   ]
  },
  {
   "cell_type": "code",
   "execution_count": null,
   "id": "1e50be48-67e4-4297-8987-529f8de8e61e",
   "metadata": {},
   "outputs": [],
   "source": []
  },
  {
   "cell_type": "code",
   "execution_count": 1,
   "id": "351eba8b-78b1-486c-b8df-0ddc8bc90658",
   "metadata": {},
   "outputs": [],
   "source": [
    "import os\n",
    "import json\n",
    "import re\n",
    "import sys\n",
    "import pandas as pd\n",
    "\n",
    "custom_module_dir = 'C:/Users/MD. REZUWAN HASAN/Desktop/Jupyter Notebooks/rlhf/modules'\n",
    "sys.path.append(custom_module_dir)\n",
    "\n",
    "from utils_2 import print_d"
   ]
  },
  {
   "cell_type": "code",
   "execution_count": null,
   "id": "d1b5133d-ba82-4040-9ce8-88f445411a4e",
   "metadata": {},
   "outputs": [],
   "source": []
  },
  {
   "cell_type": "markdown",
   "id": "adddea6a",
   "metadata": {},
   "source": [
    "### Explore results with Tensorboard"
   ]
  },
  {
   "cell_type": "code",
   "execution_count": 2,
   "id": "3a9964a4-706b-4832-b4ab-9c668ba524e2",
   "metadata": {
    "height": 30
   },
   "outputs": [],
   "source": [
    "%load_ext tensorboard"
   ]
  },
  {
   "cell_type": "code",
   "execution_count": 3,
   "id": "834917c3-6767-4dd9-8fc5-8338bfb7778b",
   "metadata": {},
   "outputs": [
    {
     "name": "stdout",
     "output_type": "stream",
     "text": [
      " Volume in drive C has no label.\n",
      " Volume Serial Number is AEA6-CDE7\n",
      "\n",
      " Directory of C:\\Users\\MD. REZUWAN HASAN\\Desktop\\Jupyter Notebooks\\rlhf\\logs\n",
      "\n",
      "09/06/2024  04:42 PM    <DIR>          .\n",
      "09/06/2024  04:42 PM    <DIR>          ..\n",
      "09/06/2024  04:41 PM    <DIR>          reinforcer-fulldata-logs\n",
      "09/06/2024  04:42 PM    <DIR>          reinforcer-logs\n",
      "09/06/2024  04:40 PM    <DIR>          reward-logs\n",
      "               0 File(s)              0 bytes\n",
      "               5 Dir(s)  31,049,379,840 bytes free\n"
     ]
    }
   ],
   "source": [
    "%ls \"C:/Users/MD. REZUWAN HASAN/Desktop/Jupyter Notebooks/rlhf/logs/\""
   ]
  },
  {
   "cell_type": "code",
   "execution_count": 4,
   "id": "006ce3fa-4074-43b9-9a11-3824fbb0f9c3",
   "metadata": {},
   "outputs": [],
   "source": [
    "reward_logs = \"C:/Users/MD. REZUWAN HASAN/Desktop/Jupyter Notebooks/rlhf/logs/reward-logs/\"\n",
    "reinforcer_logs = \"C:/Users/MD. REZUWAN HASAN/Desktop/Jupyter Notebooks/rlhf/logs/reinforcer-logs/\"\n",
    "reinforcer_fulldata_logs = \"C:/Users/MD. REZUWAN HASAN/Desktop/Jupyter Notebooks/rlhf/logs/reinforcer-fulldata-logs/\"\n",
    "\n",
    "port = \"8000\"\n",
    "port2 = \"8001\"\n",
    "port3 = \"8002\""
   ]
  },
  {
   "cell_type": "code",
   "execution_count": null,
   "id": "b553a08a-473b-4b59-976e-f38cbb948c36",
   "metadata": {},
   "outputs": [],
   "source": []
  },
  {
   "cell_type": "code",
   "execution_count": 5,
   "id": "eec61196-d61e-4cc8-bf8c-c3056062cead",
   "metadata": {},
   "outputs": [
    {
     "data": {
      "text/plain": [
       "Reusing TensorBoard on port 6009 (pid 20100), started 2:17:03 ago. (Use '!kill 20100' to kill it.)"
      ]
     },
     "metadata": {},
     "output_type": "display_data"
    },
    {
     "data": {
      "text/html": [
       "\n",
       "      <iframe id=\"tensorboard-frame-4197b6bb4c464091\" width=\"100%\" height=\"800\" frameborder=\"0\">\n",
       "      </iframe>\n",
       "      <script>\n",
       "        (function() {\n",
       "          const frame = document.getElementById(\"tensorboard-frame-4197b6bb4c464091\");\n",
       "          const url = new URL(\"/\", window.location);\n",
       "          const port = 6009;\n",
       "          if (port) {\n",
       "            url.port = port;\n",
       "          }\n",
       "          frame.src = url;\n",
       "        })();\n",
       "      </script>\n",
       "    "
      ],
      "text/plain": [
       "<IPython.core.display.HTML object>"
      ]
     },
     "metadata": {},
     "output_type": "display_data"
    }
   ],
   "source": [
    "%tensorboard --logdir 'C:/Users/MD. REZUWAN HASAN/Desktop/Jupyter Notebooks/rlhf/logs' --bind_all "
   ]
  },
  {
   "cell_type": "code",
   "execution_count": null,
   "id": "867b79df-e6c3-4e48-833d-b9f8f1c42a05",
   "metadata": {},
   "outputs": [],
   "source": []
  },
  {
   "cell_type": "markdown",
   "id": "6ce32db1",
   "metadata": {},
   "source": [
    "- The dictionary of 'parameter_values' defined in the previous lesson"
   ]
  },
  {
   "cell_type": "code",
   "execution_count": 6,
   "id": "f5cf353d-1264-47f6-995a-8a8f1043e08a",
   "metadata": {
    "height": 268
   },
   "outputs": [],
   "source": [
    "parameter_values={\n",
    "        \"preference_dataset\": \\\n",
    "    \"gs://vertex-ai/generative-ai/rlhf/text_small/summarize_from_feedback_tfds/comparisons/train/*.jsonl\",\n",
    "        \"prompt_dataset\": \\\n",
    "    \"gs://vertex-ai/generative-ai/rlhf/text_small/reddit_tfds/train/*.jsonl\",\n",
    "        \"eval_dataset\": \\\n",
    "    \"gs://vertex-ai/generative-ai/rlhf/text_small/reddit_tfds/val/*.jsonl\",\n",
    "        \"large_model_reference\": \"llama-2-7b\",\n",
    "        \"reward_model_train_steps\": 1410,\n",
    "        \"reinforcement_learning_train_steps\": 320,\n",
    "        \"reward_model_learning_rate_multiplier\": 1.0,\n",
    "        \"reinforcement_learning_rate_multiplier\": 1.0,\n",
    "        \"kl_coeff\": 0.1,\n",
    "        \"instruction\":\\\n",
    "    \"Summarize in less than 50 words\"}"
   ]
  },
  {
   "cell_type": "markdown",
   "id": "5a8fb9a2",
   "metadata": {},
   "source": [
    "**Note:** Here, we are using \"text_small\" for our datasets for learning purposes. However for the results that we're evaluating in this lesson, the team used the full dataset with the following hyperparameters:\n",
    "\n",
    "```Python\n",
    "parameter_values={\n",
    "        \"preference_dataset\": \\\n",
    "    \"gs://vertex-ai/generative-ai/rlhf/text/summarize_from_feedback_tfds/comparisons/train/*.jsonl\",\n",
    "        \"prompt_dataset\": \\\n",
    "    \"gs://vertex-ai/generative-ai/rlhf/text/reddit_tfds/train/*.jsonl\",\n",
    "        \"eval_dataset\": \\\n",
    "    \"gs://vertex-ai/generative-ai/rlhf/text/reddit_tfds/val/*.jsonl\",\n",
    "        \"large_model_reference\": \"llama-2-7b\",\n",
    "        \"reward_model_train_steps\": 10000,\n",
    "        \"reinforcement_learning_train_steps\": 10000, \n",
    "        \"reward_model_learning_rate_multiplier\": 1.0,\n",
    "        \"reinforcement_learning_rate_multiplier\": 0.2,\n",
    "        \"kl_coeff\": 0.1,\n",
    "        \"instruction\":\\\n",
    "    \"Summarize in less than 50 words\"}\n",
    "```"
   ]
  },
  {
   "cell_type": "code",
   "execution_count": null,
   "id": "abfeaff9-f0c0-4f3b-9f7d-53bb4892e1e8",
   "metadata": {},
   "outputs": [],
   "source": []
  },
  {
   "cell_type": "markdown",
   "id": "e30aeeb3",
   "metadata": {},
   "source": [
    "# Evaluate using the tuned and untuned model"
   ]
  },
  {
   "cell_type": "code",
   "execution_count": null,
   "id": "163d5544-a1fe-4c22-8d36-86f51a715889",
   "metadata": {
    "height": 30
   },
   "outputs": [],
   "source": []
  },
  {
   "cell_type": "code",
   "execution_count": 7,
   "id": "17305cf4-9615-475c-a747-c40e48354e8b",
   "metadata": {
    "height": 30
   },
   "outputs": [],
   "source": [
    "dataset_path = 'C:/Users/MD. REZUWAN HASAN/Desktop/Jupyter Notebooks/rlhf/data'\n",
    "\n",
    "eval_tuned_path = f'{dataset_path}/eval_results_tuned.jsonl'\n",
    "eval_data_tuned = []\n",
    "\n",
    "eval_untuned_path = f'{dataset_path}/eval_results_untuned.jsonl'\n",
    "eval_data_untuned = []"
   ]
  },
  {
   "cell_type": "code",
   "execution_count": null,
   "id": "9d3b7d4d-528e-4c9e-8bd5-8218e82692ef",
   "metadata": {},
   "outputs": [],
   "source": []
  },
  {
   "cell_type": "markdown",
   "id": "1025b12c-d4cd-4a24-8506-bb4bc1ec4f25",
   "metadata": {},
   "source": [
    "## Tuned path"
   ]
  },
  {
   "cell_type": "code",
   "execution_count": null,
   "id": "d537e983-9763-43a3-94e2-12cba71835f9",
   "metadata": {},
   "outputs": [],
   "source": []
  },
  {
   "cell_type": "code",
   "execution_count": 8,
   "id": "ed93decd-c6ed-4746-bf9f-3351d414eb77",
   "metadata": {
    "height": 64
   },
   "outputs": [],
   "source": [
    "with open(eval_tuned_path) as f:\n",
    "    for line in f:\n",
    "        eval_data_tuned.append(json.loads(line))"
   ]
  },
  {
   "cell_type": "code",
   "execution_count": null,
   "id": "c888a47d-edea-4566-ade3-ac64923ff6f0",
   "metadata": {},
   "outputs": [],
   "source": []
  },
  {
   "cell_type": "code",
   "execution_count": 9,
   "id": "81f5f3d1-17dc-45f7-8b25-6fe3f80ca8e6",
   "metadata": {
    "height": 47
   },
   "outputs": [
    {
     "data": {
      "text/plain": [
       "[{'inputs': {'inputs_pretokenized': \"Summarize in less than 50 words.\\n\\n\\nBefore anything, not a sad story or anything. My country's equivalent to Valentine's Day is coming and I had this pretty simple idea to surprise my girlfriend and it would involve giving her some roses. The thing is, although I know she would appreciate my intention in and of itself, I don't know if she would like the actual flowers and such, so I wanted to find out if she likes roses and if she would like getting some, but without her realizing it so as not to spoil the surprise. Any ideas on how to get that information out of her? [summary]: \",\n",
       "   'targets_pretokenized': ''},\n",
       "  'prediction': \"My country's equivalent to Valentine's Day is coming. Want to surprise my girlfriend with roses but don't know if she would like getting some. Any ideas on how to get that information out of her without spoiling the surprise\"},\n",
       " {'inputs': {'inputs_pretokenized': 'Summarize in less than 50 words.\\n\\n\\nFor most of high school, I\\'ve been the go to \"computer kid.\" I\\'ll be the first to admit that I know a lot about how computers work, and often fix things for teachers before the IT guys have a chance to get a whack at them. I worked at a computer repair shop for half a year as a technician. I\\'ve done the typical tech guy thing and drooled over new computers that come out (read: Wired/PopSci/2600 articles and centerfolds). \\n\\nThat said, I have NO IDEA what kind of computer to get for college. I\\'ve always wanted to buy a ton of parts and build my own \"super\" desktop, but I for sure need a laptop. If everything goes according to plan, I\\'m enrolling at Champlain College next Fall to double major in Computer Network Information Security and Digital Forensics. \\n\\nA lot of you probably already know this, but this major involves a lot of virtual desktops. Essentially I set up entire networks on my own rig and then go in and play around with them, all from one computer. It takes a lot of processing power and hard drive space.\\n\\nOver the years I\\'ve built up several stereotypes about different brands, operating systems, products... Recently, my mind has been opened back up and I\\'m willing to take a look at anything, even a Dell or an Asus.\\n\\nIt\\'s recently been brought to my attention that Macs are actually pretty good. I\\'ve always been a notorious Windows-only-guy. I finally decided to bite my tongue and take a look under the hood, and my god are these things powerful... I guess it really does help making everything but the processor in-house.\\n\\nAnywho, what I really need is suggestions that might work well for my major, hopefully staying under a budget of $1600. Also, what are the big differences between a MacBook and  MacBook Pro? [summary]: ',\n",
       "   'targets_pretokenized': ''},\n",
       "  'prediction': 'Been the go to \"computer kid\" in high school. Majoring in Computer Network Information Security and Digital Forensics. Need suggestions for a laptop under 1600. What are the big differences between a MacBook and MacBook Pro'},\n",
       " {'inputs': {'inputs_pretokenized': \"Summarize in less than 50 words.\\n\\n\\nSo I graduated in may 2014 in the DC area but couldn't start applying to jobs till April of this year due to family circumstances. So far I've applied to nearly 50+ places, 4 recruiters contacted me and added me to their available candidates list after a small interview (one of them got me a small office assignment but that's over) and gotten two interviews by myself (none of which panned out). I have experience in office software and am pretty well versed in excel (i'd say a little less than advanced but a lot more than proficient) and advanced mathematics. I have a GPA higher than 3 but lower than 3.5 which I don't mention in my resume. Could that be it? \\n\\nI don't understand what I'm doing wrong. So far I've been applying to anything remotely related with data, analysis, finance at entry level but I barely get any response. Data entry and admin assistant positions are no different. I also write cover letters for almost every place. I also don't know many people here since my family isn't really well connected enough for me to have great networking opportunities. I really don't know what to do next. I can't imagine how people applying to over 200-400 places deal with the frustrating and emotionally draining experience. I would really appreciate some advice from recent econ/finance grads or hiring personnel. [summary]: \",\n",
       "   'targets_pretokenized': ''},\n",
       "  'prediction': \"Graduated in may 2014. Applied to nearly 50+ places for data, analysis finance entry level. Barely get any response. Don't know what to do next. Would appreciate advice from recent econ/finance grads or hiring personnel.\"},\n",
       " {'inputs': {'inputs_pretokenized': \"Summarize in less than 50 words.\\n\\n\\nHello /r/jobs, I graduated a few months ago and had no luck so far to get a job in marketing/sales. \\n\\nThere's a small local company (perhaps 30 employees) but they are actually pretty successful in what they're doing (known worldwide). I checked their website and it's awful. Looks like a website from the early 2000's. So I guess they are not pretty good in (online-)marketing. \\n\\nI would like to do a cold application (not sure if they are looking for a marketing guy) but I had no luck with this kind of application in the past. That's why I thought I try something different. I have good skills in photoshop, indesign and illustrator. As a teenager I also built websites using HTML, so I thought I build a dummy website fitted to their company and attach some screenshots to my application.\\n\\nWhat do you think? I this a feasible idea or will they be offended?\\n\\nThank you very much in advance. [summary]: \",\n",
       "   'targets_pretokenized': ''},\n",
       "  'prediction': 'Graduated a few months ago. No luck so far to get a job in marketing/sales. Thought to build a dummy website fitted to the company and attach some screenshots to my application. What do you think?'},\n",
       " {'inputs': {'inputs_pretokenized': \"Summarize in less than 50 words.\\n\\n\\nHello!\\n\\nI hope that someone can lend me some advice for a situation that I find myself in. Here's my situation:\\n\\nAbout 10 years ago as I was traveling, I applied for my first credit card which was an AMEX delta card. For the years after, I traveled often, and got benefits from this card.\\n\\nNow, after I have recently graduated college, and landed a full time job, I no longer have time to travel as much, and therefore have no need to use the Delta card. Last year I paid off my balance with the card, and haven't used it since.\\n\\nRecently, I had to pay the $95 annual fee, and realized that I should perhaps consider another credit card. I thought about closing this account and applying for a cash rewards card.\\n\\nNow my issue is that this is my ONLY and OLDEST credit card account. I would like to close the account and apply for a Bank of America cash rewards card as my checking/savings accounts are with them. However, I am concerned with how this will affect my credit report.\\n\\nWill closing this account greatly affect my credit score?\\n\\nI even spoke with the reps at AMEX about downgrading to a cash rewards card with no annual fee, and apparently I cannot do this as my AMEX card is linked with the Delta account. I do not want this card, I'm stuck in a pickle...\\n\\nAny advice would be appreciated! [summary]: \",\n",
       "   'targets_pretokenized': ''},\n",
       "  'prediction': 'About 10 years ago applied for my first credit card AMEX delta card. No longer have time to travel as much. Thinking of closing the account and apply for a cash rewards card. Any advice would be appreciated.'}]"
      ]
     },
     "execution_count": 9,
     "metadata": {},
     "output_type": "execute_result"
    }
   ],
   "source": [
    "eval_data_tuned"
   ]
  },
  {
   "cell_type": "code",
   "execution_count": null,
   "id": "7f0ef7ca-3dac-40dc-84ea-f8983673da81",
   "metadata": {},
   "outputs": [],
   "source": []
  },
  {
   "cell_type": "code",
   "execution_count": 10,
   "id": "02a31901-f3e7-47e1-89d4-4100acd8c0ee",
   "metadata": {},
   "outputs": [
    {
     "data": {
      "text/plain": [
       "5"
      ]
     },
     "execution_count": 10,
     "metadata": {},
     "output_type": "execute_result"
    }
   ],
   "source": [
    "len(eval_data_tuned)"
   ]
  },
  {
   "cell_type": "code",
   "execution_count": null,
   "id": "9c83d7c9-d690-47bc-86ee-b9587d1f272f",
   "metadata": {},
   "outputs": [],
   "source": []
  },
  {
   "cell_type": "code",
   "execution_count": 11,
   "id": "d0746432-d8b2-4919-8a13-b13daf8534c1",
   "metadata": {},
   "outputs": [
    {
     "data": {
      "text/plain": [
       "{'inputs': {'inputs_pretokenized': \"Summarize in less than 50 words.\\n\\n\\nBefore anything, not a sad story or anything. My country's equivalent to Valentine's Day is coming and I had this pretty simple idea to surprise my girlfriend and it would involve giving her some roses. The thing is, although I know she would appreciate my intention in and of itself, I don't know if she would like the actual flowers and such, so I wanted to find out if she likes roses and if she would like getting some, but without her realizing it so as not to spoil the surprise. Any ideas on how to get that information out of her? [summary]: \",\n",
       "  'targets_pretokenized': ''},\n",
       " 'prediction': \"My country's equivalent to Valentine's Day is coming. Want to surprise my girlfriend with roses but don't know if she would like getting some. Any ideas on how to get that information out of her without spoiling the surprise\"}"
      ]
     },
     "execution_count": 11,
     "metadata": {},
     "output_type": "execute_result"
    }
   ],
   "source": [
    "eval_data_tuned[0]"
   ]
  },
  {
   "cell_type": "code",
   "execution_count": null,
   "id": "2e0b3fdd-2b90-4c52-8273-c87baebdf198",
   "metadata": {},
   "outputs": [],
   "source": []
  },
  {
   "cell_type": "code",
   "execution_count": 12,
   "id": "5193a7f7-a6ac-4369-9f39-c7176c8828b1",
   "metadata": {
    "height": 47
   },
   "outputs": [
    {
     "name": "stdout",
     "output_type": "stream",
     "text": [
      "--------------------------------------------------\n",
      "key:inputs\n",
      "\n",
      "val\n",
      "  --------------------------------------------------\n",
      "  key:inputs_pretokenized\n",
      "\n",
      "  val:Summarize in less than 50 words.\n",
      "\n",
      "\n",
      "Before anything, not a sad story or anything. My country's equivalent to Valentine's Day is coming and I had this pretty simple idea to surprise my girlfriend and it would involve giving her some roses. The thing is, although I know she would appreciate my intention in and of itself, I don't know if she would like the actual flowers and such, so I wanted to find out if she likes roses and if she would like getting some, but without her realizing it so as not to spoil the surprise. Any ideas on how to get that information out of her? [summary]: \n",
      "  --------------------------------------------------\n",
      "  key:targets_pretokenized\n",
      "\n",
      "  val:\n",
      "--------------------------------------------------\n",
      "key:prediction\n",
      "\n",
      "val:My country's equivalent to Valentine's Day is coming. Want to surprise my girlfriend with roses but don't know if she would like getting some. Any ideas on how to get that information out of her without spoiling the surprise\n"
     ]
    }
   ],
   "source": [
    "print_d(eval_data_tuned[0]) # Look at the result produced by the tuned model"
   ]
  },
  {
   "cell_type": "code",
   "execution_count": null,
   "id": "37199f28-7d52-4530-98e6-2ba2fe255d6e",
   "metadata": {
    "height": 30
   },
   "outputs": [],
   "source": []
  },
  {
   "cell_type": "markdown",
   "id": "b1d6a369-d310-4637-a89c-f0287c83de24",
   "metadata": {
    "height": 30
   },
   "source": [
    "## Untuned path"
   ]
  },
  {
   "cell_type": "code",
   "execution_count": null,
   "id": "1817bf1a-2e65-4a7f-8266-1c5d780983a1",
   "metadata": {},
   "outputs": [],
   "source": []
  },
  {
   "cell_type": "code",
   "execution_count": 13,
   "id": "57ede73e-dcf6-49b1-947a-2524815680cf",
   "metadata": {
    "height": 64
   },
   "outputs": [],
   "source": [
    "with open(eval_untuned_path) as f:\n",
    "    for line in f:\n",
    "        eval_data_untuned.append(json.loads(line))"
   ]
  },
  {
   "cell_type": "code",
   "execution_count": 14,
   "id": "60b2aa1e-ee79-42f5-b214-09d4b3c84d42",
   "metadata": {},
   "outputs": [
    {
     "data": {
      "text/plain": [
       "[{'inputs': {'inputs_pretokenized': \"Summarize in less than 50 words.\\n\\n\\nBefore anything, not a sad story or anything. My country's equivalent to Valentine's Day is coming and I had this pretty simple idea to surprise my girlfriend and it would involve giving her some roses. The thing is, although I know she would appreciate my intention in and of itself, I don't know if she would like the actual flowers and such, so I wanted to find out if she likes roses and if she would like getting some, but without her realizing it so as not to spoil the surprise. Any ideas on how to get that information out of her? [summary]: \",\n",
       "   'targets_pretokenized': ''},\n",
       "  'prediction': \"The author wants to surprise his girlfriend with roses on Valentine's Day but he doesn't know if she likes roses. He wants to find out without spoiling the surprise.\"},\n",
       " {'inputs': {'inputs_pretokenized': 'Summarize in less than 50 words.\\n\\n\\nFor most of high school, I\\'ve been the go to \"computer kid.\" I\\'ll be the first to admit that I know a lot about how computers work, and often fix things for teachers before the IT guys have a chance to get a whack at them. I worked at a computer repair shop for half a year as a technician. I\\'ve done the typical tech guy thing and drooled over new computers that come out (read: Wired/PopSci/2600 articles and centerfolds). \\n\\nThat said, I have NO IDEA what kind of computer to get for college. I\\'ve always wanted to buy a ton of parts and build my own \"super\" desktop, but I for sure need a laptop. If everything goes according to plan, I\\'m enrolling at Champlain College next Fall to double major in Computer Network Information Security and Digital Forensics. \\n\\nA lot of you probably already know this, but this major involves a lot of virtual desktops. Essentially I set up entire networks on my own rig and then go in and play around with them, all from one computer. It takes a lot of processing power and hard drive space.\\n\\nOver the years I\\'ve built up several stereotypes about different brands, operating systems, products... Recently, my mind has been opened back up and I\\'m willing to take a look at anything, even a Dell or an Asus.\\n\\nIt\\'s recently been brought to my attention that Macs are actually pretty good. I\\'ve always been a notorious Windows-only-guy. I finally decided to bite my tongue and take a look under the hood, and my god are these things powerful... I guess it really does help making everything but the processor in-house.\\n\\nAnywho, what I really need is suggestions that might work well for my major, hopefully staying under a budget of $1600. Also, what are the big differences between a MacBook and  MacBook Pro? [summary]: ',\n",
       "   'targets_pretokenized': ''},\n",
       "  'prediction': 'A high school senior who is going to major in Computer Network Information Security and Digital Forensics needs a laptop that is powerful enough to run virtual desktops. He is open to suggestions of any brands, but prefers Macs. He is looking for a laptop under $1600 and wants to know the difference between MacBook and'},\n",
       " {'inputs': {'inputs_pretokenized': \"Summarize in less than 50 words.\\n\\n\\nSo I graduated in may 2014 in the DC area but couldn't start applying to jobs till April of this year due to family circumstances. So far I've applied to nearly 50+ places, 4 recruiters contacted me and added me to their available candidates list after a small interview (one of them got me a small office assignment but that's over) and gotten two interviews by myself (none of which panned out). I have experience in office software and am pretty well versed in excel (i'd say a little less than advanced but a lot more than proficient) and advanced mathematics. I have a GPA higher than 3 but lower than 3.5 which I don't mention in my resume. Could that be it? \\n\\nI don't understand what I'm doing wrong. So far I've been applying to anything remotely related with data, analysis, finance at entry level but I barely get any response. Data entry and admin assistant positions are no different. I also write cover letters for almost every place. I also don't know many people here since my family isn't really well connected enough for me to have great networking opportunities. I really don't know what to do next. I can't imagine how people applying to over 200-400 places deal with the frustrating and emotionally draining experience. I would really appreciate some advice from recent econ/finance grads or hiring personnel. [summary]: \",\n",
       "   'targets_pretokenized': ''},\n",
       "  'prediction': \"Graduated in May 2014, but couldn't start applying to jobs till April of this year. Applied to nearly 50 places, but only got 2 interviews. GPA is higher than 3 but lower than 3.5. Don't know what I'm doing wrong.\"},\n",
       " {'inputs': {'inputs_pretokenized': \"Summarize in less than 50 words.\\n\\n\\nHello /r/jobs, I graduated a few months ago and had no luck so far to get a job in marketing/sales. \\n\\nThere's a small local company (perhaps 30 employees) but they are actually pretty successful in what they're doing (known worldwide). I checked their website and it's awful. Looks like a website from the early 2000's. So I guess they are not pretty good in (online-)marketing. \\n\\nI would like to do a cold application (not sure if they are looking for a marketing guy) but I had no luck with this kind of application in the past. That's why I thought I try something different. I have good skills in photoshop, indesign and illustrator. As a teenager I also built websites using HTML, so I thought I build a dummy website fitted to their company and attach some screenshots to my application.\\n\\nWhat do you think? I this a feasible idea or will they be offended?\\n\\nThank you very much in advance. [summary]: \",\n",
       "   'targets_pretokenized': ''},\n",
       "  'prediction': 'Graduated a few months ago, looking for a job in marketing/sales. Found a small local company that is successful but has an awful website. I want to apply for a marketing job but not sure if they are hiring. I thought of building a dummy website for them and attach some screenshots to my application.'},\n",
       " {'inputs': {'inputs_pretokenized': \"Summarize in less than 50 words.\\n\\n\\nHello!\\n\\nI hope that someone can lend me some advice for a situation that I find myself in. Here's my situation:\\n\\nAbout 10 years ago as I was traveling, I applied for my first credit card which was an AMEX delta card. For the years after, I traveled often, and got benefits from this card.\\n\\nNow, after I have recently graduated college, and landed a full time job, I no longer have time to travel as much, and therefore have no need to use the Delta card. Last year I paid off my balance with the card, and haven't used it since.\\n\\nRecently, I had to pay the $95 annual fee, and realized that I should perhaps consider another credit card. I thought about closing this account and applying for a cash rewards card.\\n\\nNow my issue is that this is my ONLY and OLDEST credit card account. I would like to close the account and apply for a Bank of America cash rewards card as my checking/savings accounts are with them. However, I am concerned with how this will affect my credit report.\\n\\nWill closing this account greatly affect my credit score?\\n\\nI even spoke with the reps at AMEX about downgrading to a cash rewards card with no annual fee, and apparently I cannot do this as my AMEX card is linked with the Delta account. I do not want this card, I'm stuck in a pickle...\\n\\nAny advice would be appreciated! [summary]: \",\n",
       "   'targets_pretokenized': ''},\n",
       "  'prediction': 'The author has an AMEX delta card which has an annual fee. The author wants to close the account and apply for a cash rewards card. However, the author is concerned about how this will affect their credit score.'}]"
      ]
     },
     "execution_count": 14,
     "metadata": {},
     "output_type": "execute_result"
    }
   ],
   "source": [
    "eval_data_untuned"
   ]
  },
  {
   "cell_type": "code",
   "execution_count": 15,
   "id": "eb563d28-29f1-44f1-bb26-618bf8eba583",
   "metadata": {},
   "outputs": [
    {
     "data": {
      "text/plain": [
       "5"
      ]
     },
     "execution_count": 15,
     "metadata": {},
     "output_type": "execute_result"
    }
   ],
   "source": [
    "len(eval_data_untuned)"
   ]
  },
  {
   "cell_type": "code",
   "execution_count": 16,
   "id": "a3e3663d-9644-4e1b-9474-feacbaf7e8dc",
   "metadata": {},
   "outputs": [
    {
     "data": {
      "text/plain": [
       "{'inputs': {'inputs_pretokenized': \"Summarize in less than 50 words.\\n\\n\\nBefore anything, not a sad story or anything. My country's equivalent to Valentine's Day is coming and I had this pretty simple idea to surprise my girlfriend and it would involve giving her some roses. The thing is, although I know she would appreciate my intention in and of itself, I don't know if she would like the actual flowers and such, so I wanted to find out if she likes roses and if she would like getting some, but without her realizing it so as not to spoil the surprise. Any ideas on how to get that information out of her? [summary]: \",\n",
       "  'targets_pretokenized': ''},\n",
       " 'prediction': \"The author wants to surprise his girlfriend with roses on Valentine's Day but he doesn't know if she likes roses. He wants to find out without spoiling the surprise.\"}"
      ]
     },
     "execution_count": 16,
     "metadata": {},
     "output_type": "execute_result"
    }
   ],
   "source": [
    "eval_data_untuned[0]"
   ]
  },
  {
   "cell_type": "code",
   "execution_count": 17,
   "id": "1bb71791-0421-40da-868c-4c681e7d35ff",
   "metadata": {
    "height": 47
   },
   "outputs": [
    {
     "name": "stdout",
     "output_type": "stream",
     "text": [
      "--------------------------------------------------\n",
      "key:inputs\n",
      "\n",
      "val\n",
      "  --------------------------------------------------\n",
      "  key:inputs_pretokenized\n",
      "\n",
      "  val:Summarize in less than 50 words.\n",
      "\n",
      "\n",
      "Before anything, not a sad story or anything. My country's equivalent to Valentine's Day is coming and I had this pretty simple idea to surprise my girlfriend and it would involve giving her some roses. The thing is, although I know she would appreciate my intention in and of itself, I don't know if she would like the actual flowers and such, so I wanted to find out if she likes roses and if she would like getting some, but without her realizing it so as not to spoil the surprise. Any ideas on how to get that information out of her? [summary]: \n",
      "  --------------------------------------------------\n",
      "  key:targets_pretokenized\n",
      "\n",
      "  val:\n",
      "--------------------------------------------------\n",
      "key:prediction\n",
      "\n",
      "val:The author wants to surprise his girlfriend with roses on Valentine's Day but he doesn't know if she likes roses. He wants to find out without spoiling the surprise.\n"
     ]
    }
   ],
   "source": [
    "# Look at the result produced by the untuned model\n",
    "print_d(eval_data_untuned[0])"
   ]
  },
  {
   "cell_type": "code",
   "execution_count": null,
   "id": "660f9bde-f49c-4237-8280-a3483bddc312",
   "metadata": {},
   "outputs": [],
   "source": []
  },
  {
   "cell_type": "code",
   "execution_count": null,
   "id": "18f8c5b3-09be-4721-90c5-6c204e3dcaa7",
   "metadata": {},
   "outputs": [],
   "source": []
  },
  {
   "cell_type": "markdown",
   "id": "7dc805be",
   "metadata": {},
   "source": [
    "### Explore the results side by side in a dataframe"
   ]
  },
  {
   "cell_type": "code",
   "execution_count": 18,
   "id": "a18d95c7-5317-41c7-b545-749bbc536faa",
   "metadata": {
    "height": 64
   },
   "outputs": [],
   "source": [
    "# Extract all the prompts\n",
    "prompts = [sample['inputs']['inputs_pretokenized']\n",
    "           for sample in eval_data_tuned]"
   ]
  },
  {
   "cell_type": "code",
   "execution_count": 19,
   "id": "156f3d0b-4e5f-4555-b77b-aa695622c619",
   "metadata": {},
   "outputs": [
    {
     "data": {
      "text/plain": [
       "[\"Summarize in less than 50 words.\\n\\n\\nBefore anything, not a sad story or anything. My country's equivalent to Valentine's Day is coming and I had this pretty simple idea to surprise my girlfriend and it would involve giving her some roses. The thing is, although I know she would appreciate my intention in and of itself, I don't know if she would like the actual flowers and such, so I wanted to find out if she likes roses and if she would like getting some, but without her realizing it so as not to spoil the surprise. Any ideas on how to get that information out of her? [summary]: \",\n",
       " 'Summarize in less than 50 words.\\n\\n\\nFor most of high school, I\\'ve been the go to \"computer kid.\" I\\'ll be the first to admit that I know a lot about how computers work, and often fix things for teachers before the IT guys have a chance to get a whack at them. I worked at a computer repair shop for half a year as a technician. I\\'ve done the typical tech guy thing and drooled over new computers that come out (read: Wired/PopSci/2600 articles and centerfolds). \\n\\nThat said, I have NO IDEA what kind of computer to get for college. I\\'ve always wanted to buy a ton of parts and build my own \"super\" desktop, but I for sure need a laptop. If everything goes according to plan, I\\'m enrolling at Champlain College next Fall to double major in Computer Network Information Security and Digital Forensics. \\n\\nA lot of you probably already know this, but this major involves a lot of virtual desktops. Essentially I set up entire networks on my own rig and then go in and play around with them, all from one computer. It takes a lot of processing power and hard drive space.\\n\\nOver the years I\\'ve built up several stereotypes about different brands, operating systems, products... Recently, my mind has been opened back up and I\\'m willing to take a look at anything, even a Dell or an Asus.\\n\\nIt\\'s recently been brought to my attention that Macs are actually pretty good. I\\'ve always been a notorious Windows-only-guy. I finally decided to bite my tongue and take a look under the hood, and my god are these things powerful... I guess it really does help making everything but the processor in-house.\\n\\nAnywho, what I really need is suggestions that might work well for my major, hopefully staying under a budget of $1600. Also, what are the big differences between a MacBook and  MacBook Pro? [summary]: ',\n",
       " \"Summarize in less than 50 words.\\n\\n\\nSo I graduated in may 2014 in the DC area but couldn't start applying to jobs till April of this year due to family circumstances. So far I've applied to nearly 50+ places, 4 recruiters contacted me and added me to their available candidates list after a small interview (one of them got me a small office assignment but that's over) and gotten two interviews by myself (none of which panned out). I have experience in office software and am pretty well versed in excel (i'd say a little less than advanced but a lot more than proficient) and advanced mathematics. I have a GPA higher than 3 but lower than 3.5 which I don't mention in my resume. Could that be it? \\n\\nI don't understand what I'm doing wrong. So far I've been applying to anything remotely related with data, analysis, finance at entry level but I barely get any response. Data entry and admin assistant positions are no different. I also write cover letters for almost every place. I also don't know many people here since my family isn't really well connected enough for me to have great networking opportunities. I really don't know what to do next. I can't imagine how people applying to over 200-400 places deal with the frustrating and emotionally draining experience. I would really appreciate some advice from recent econ/finance grads or hiring personnel. [summary]: \",\n",
       " \"Summarize in less than 50 words.\\n\\n\\nHello /r/jobs, I graduated a few months ago and had no luck so far to get a job in marketing/sales. \\n\\nThere's a small local company (perhaps 30 employees) but they are actually pretty successful in what they're doing (known worldwide). I checked their website and it's awful. Looks like a website from the early 2000's. So I guess they are not pretty good in (online-)marketing. \\n\\nI would like to do a cold application (not sure if they are looking for a marketing guy) but I had no luck with this kind of application in the past. That's why I thought I try something different. I have good skills in photoshop, indesign and illustrator. As a teenager I also built websites using HTML, so I thought I build a dummy website fitted to their company and attach some screenshots to my application.\\n\\nWhat do you think? I this a feasible idea or will they be offended?\\n\\nThank you very much in advance. [summary]: \",\n",
       " \"Summarize in less than 50 words.\\n\\n\\nHello!\\n\\nI hope that someone can lend me some advice for a situation that I find myself in. Here's my situation:\\n\\nAbout 10 years ago as I was traveling, I applied for my first credit card which was an AMEX delta card. For the years after, I traveled often, and got benefits from this card.\\n\\nNow, after I have recently graduated college, and landed a full time job, I no longer have time to travel as much, and therefore have no need to use the Delta card. Last year I paid off my balance with the card, and haven't used it since.\\n\\nRecently, I had to pay the $95 annual fee, and realized that I should perhaps consider another credit card. I thought about closing this account and applying for a cash rewards card.\\n\\nNow my issue is that this is my ONLY and OLDEST credit card account. I would like to close the account and apply for a Bank of America cash rewards card as my checking/savings accounts are with them. However, I am concerned with how this will affect my credit report.\\n\\nWill closing this account greatly affect my credit score?\\n\\nI even spoke with the reps at AMEX about downgrading to a cash rewards card with no annual fee, and apparently I cannot do this as my AMEX card is linked with the Delta account. I do not want this card, I'm stuck in a pickle...\\n\\nAny advice would be appreciated! [summary]: \"]"
      ]
     },
     "execution_count": 19,
     "metadata": {},
     "output_type": "execute_result"
    }
   ],
   "source": [
    "prompts"
   ]
  },
  {
   "cell_type": "code",
   "execution_count": 20,
   "id": "918ffd61-c3b7-41bc-9aa2-a9a94529f94a",
   "metadata": {},
   "outputs": [
    {
     "data": {
      "text/plain": [
       "\"Summarize in less than 50 words.\\n\\n\\nBefore anything, not a sad story or anything. My country's equivalent to Valentine's Day is coming and I had this pretty simple idea to surprise my girlfriend and it would involve giving her some roses. The thing is, although I know she would appreciate my intention in and of itself, I don't know if she would like the actual flowers and such, so I wanted to find out if she likes roses and if she would like getting some, but without her realizing it so as not to spoil the surprise. Any ideas on how to get that information out of her? [summary]: \""
      ]
     },
     "execution_count": 20,
     "metadata": {},
     "output_type": "execute_result"
    }
   ],
   "source": [
    "prompts[0]"
   ]
  },
  {
   "cell_type": "code",
   "execution_count": null,
   "id": "4795c4f0-2f45-41a9-8a0c-b1b3a56d905b",
   "metadata": {},
   "outputs": [],
   "source": []
  },
  {
   "cell_type": "code",
   "execution_count": 21,
   "id": "adddcb4a-ed37-4b2e-8b57-a455854f5b79",
   "metadata": {
    "height": 64
   },
   "outputs": [],
   "source": [
    "# Completions from the untuned model\n",
    "untuned_completions = [sample['prediction']\n",
    "                       for sample in eval_data_untuned]"
   ]
  },
  {
   "cell_type": "code",
   "execution_count": 22,
   "id": "a27cf2d9-f38c-45e0-9dcf-3f0326db48eb",
   "metadata": {},
   "outputs": [
    {
     "data": {
      "text/plain": [
       "[\"The author wants to surprise his girlfriend with roses on Valentine's Day but he doesn't know if she likes roses. He wants to find out without spoiling the surprise.\",\n",
       " 'A high school senior who is going to major in Computer Network Information Security and Digital Forensics needs a laptop that is powerful enough to run virtual desktops. He is open to suggestions of any brands, but prefers Macs. He is looking for a laptop under $1600 and wants to know the difference between MacBook and',\n",
       " \"Graduated in May 2014, but couldn't start applying to jobs till April of this year. Applied to nearly 50 places, but only got 2 interviews. GPA is higher than 3 but lower than 3.5. Don't know what I'm doing wrong.\",\n",
       " 'Graduated a few months ago, looking for a job in marketing/sales. Found a small local company that is successful but has an awful website. I want to apply for a marketing job but not sure if they are hiring. I thought of building a dummy website for them and attach some screenshots to my application.',\n",
       " 'The author has an AMEX delta card which has an annual fee. The author wants to close the account and apply for a cash rewards card. However, the author is concerned about how this will affect their credit score.']"
      ]
     },
     "execution_count": 22,
     "metadata": {},
     "output_type": "execute_result"
    }
   ],
   "source": [
    "untuned_completions"
   ]
  },
  {
   "cell_type": "code",
   "execution_count": 23,
   "id": "7d538ba1-c978-4de5-ad13-1c9f236fe2bb",
   "metadata": {},
   "outputs": [
    {
     "data": {
      "text/plain": [
       "\"The author wants to surprise his girlfriend with roses on Valentine's Day but he doesn't know if she likes roses. He wants to find out without spoiling the surprise.\""
      ]
     },
     "execution_count": 23,
     "metadata": {},
     "output_type": "execute_result"
    }
   ],
   "source": [
    "untuned_completions[0]"
   ]
  },
  {
   "cell_type": "code",
   "execution_count": null,
   "id": "bfb6eaf9-0859-4174-8b4e-37db6bf33159",
   "metadata": {},
   "outputs": [],
   "source": []
  },
  {
   "cell_type": "code",
   "execution_count": 24,
   "id": "b432b804-1214-45aa-b268-bcd11741b573",
   "metadata": {
    "height": 64
   },
   "outputs": [],
   "source": [
    "# Completions from the tuned model\n",
    "tuned_completions = [sample['prediction']\n",
    "                     for sample in eval_data_tuned]"
   ]
  },
  {
   "cell_type": "code",
   "execution_count": 25,
   "id": "d0b0554f-d970-433f-aef3-dfa5b9145807",
   "metadata": {},
   "outputs": [
    {
     "data": {
      "text/plain": [
       "[\"My country's equivalent to Valentine's Day is coming. Want to surprise my girlfriend with roses but don't know if she would like getting some. Any ideas on how to get that information out of her without spoiling the surprise\",\n",
       " 'Been the go to \"computer kid\" in high school. Majoring in Computer Network Information Security and Digital Forensics. Need suggestions for a laptop under 1600. What are the big differences between a MacBook and MacBook Pro',\n",
       " \"Graduated in may 2014. Applied to nearly 50+ places for data, analysis finance entry level. Barely get any response. Don't know what to do next. Would appreciate advice from recent econ/finance grads or hiring personnel.\",\n",
       " 'Graduated a few months ago. No luck so far to get a job in marketing/sales. Thought to build a dummy website fitted to the company and attach some screenshots to my application. What do you think?',\n",
       " 'About 10 years ago applied for my first credit card AMEX delta card. No longer have time to travel as much. Thinking of closing the account and apply for a cash rewards card. Any advice would be appreciated.']"
      ]
     },
     "execution_count": 25,
     "metadata": {},
     "output_type": "execute_result"
    }
   ],
   "source": [
    "tuned_completions"
   ]
  },
  {
   "cell_type": "code",
   "execution_count": 26,
   "id": "cc954a20-8840-4c89-8f66-6f857c9f34e0",
   "metadata": {},
   "outputs": [
    {
     "data": {
      "text/plain": [
       "\"My country's equivalent to Valentine's Day is coming. Want to surprise my girlfriend with roses but don't know if she would like getting some. Any ideas on how to get that information out of her without spoiling the surprise\""
      ]
     },
     "execution_count": 26,
     "metadata": {},
     "output_type": "execute_result"
    }
   ],
   "source": [
    "tuned_completions[0]"
   ]
  },
  {
   "cell_type": "code",
   "execution_count": null,
   "id": "ba4a87bc-b79a-42dd-82ed-69225f9d4cb1",
   "metadata": {},
   "outputs": [],
   "source": []
  },
  {
   "cell_type": "markdown",
   "id": "6cec6f78",
   "metadata": {},
   "source": [
    "- Now putting all together in one big dataframe"
   ]
  },
  {
   "cell_type": "code",
   "execution_count": null,
   "id": "01e3fb37-02f6-4539-bf6f-ee7fc717e981",
   "metadata": {
    "height": 30
   },
   "outputs": [],
   "source": []
  },
  {
   "cell_type": "code",
   "execution_count": 27,
   "id": "c86c93a8-3b65-470f-b110-018aa5e6fa09",
   "metadata": {
    "height": 81
   },
   "outputs": [],
   "source": [
    "results = pd.DataFrame(\n",
    "    data={'prompt': prompts,\n",
    "          'base_model':untuned_completions,\n",
    "          'tuned_model': tuned_completions})"
   ]
  },
  {
   "cell_type": "code",
   "execution_count": 28,
   "id": "3df43314-62fe-4c0e-ad20-6e41bd9a3045",
   "metadata": {
    "height": 30
   },
   "outputs": [],
   "source": [
    "pd.set_option('display.max_colwidth', None)"
   ]
  },
  {
   "cell_type": "code",
   "execution_count": 29,
   "id": "4b43249d-94a3-4252-9d12-29ad13e15c17",
   "metadata": {
    "height": 47
   },
   "outputs": [
    {
     "data": {
      "text/html": [
       "<div>\n",
       "<style scoped>\n",
       "    .dataframe tbody tr th:only-of-type {\n",
       "        vertical-align: middle;\n",
       "    }\n",
       "\n",
       "    .dataframe tbody tr th {\n",
       "        vertical-align: top;\n",
       "    }\n",
       "\n",
       "    .dataframe thead th {\n",
       "        text-align: right;\n",
       "    }\n",
       "</style>\n",
       "<table border=\"1\" class=\"dataframe\">\n",
       "  <thead>\n",
       "    <tr style=\"text-align: right;\">\n",
       "      <th></th>\n",
       "      <th>prompt</th>\n",
       "      <th>base_model</th>\n",
       "      <th>tuned_model</th>\n",
       "    </tr>\n",
       "  </thead>\n",
       "  <tbody>\n",
       "    <tr>\n",
       "      <th>0</th>\n",
       "      <td>Summarize in less than 50 words.\\n\\n\\nBefore anything, not a sad story or anything. My country's equivalent to Valentine's Day is coming and I had this pretty simple idea to surprise my girlfriend and it would involve giving her some roses. The thing is, although I know she would appreciate my intention in and of itself, I don't know if she would like the actual flowers and such, so I wanted to find out if she likes roses and if she would like getting some, but without her realizing it so as not to spoil the surprise. Any ideas on how to get that information out of her? [summary]:</td>\n",
       "      <td>The author wants to surprise his girlfriend with roses on Valentine's Day but he doesn't know if she likes roses. He wants to find out without spoiling the surprise.</td>\n",
       "      <td>My country's equivalent to Valentine's Day is coming. Want to surprise my girlfriend with roses but don't know if she would like getting some. Any ideas on how to get that information out of her without spoiling the surprise</td>\n",
       "    </tr>\n",
       "    <tr>\n",
       "      <th>1</th>\n",
       "      <td>Summarize in less than 50 words.\\n\\n\\nFor most of high school, I've been the go to \"computer kid.\" I'll be the first to admit that I know a lot about how computers work, and often fix things for teachers before the IT guys have a chance to get a whack at them. I worked at a computer repair shop for half a year as a technician. I've done the typical tech guy thing and drooled over new computers that come out (read: Wired/PopSci/2600 articles and centerfolds). \\n\\nThat said, I have NO IDEA what kind of computer to get for college. I've always wanted to buy a ton of parts and build my own \"super\" desktop, but I for sure need a laptop. If everything goes according to plan, I'm enrolling at Champlain College next Fall to double major in Computer Network Information Security and Digital Forensics. \\n\\nA lot of you probably already know this, but this major involves a lot of virtual desktops. Essentially I set up entire networks on my own rig and then go in and play around with them, all from one computer. It takes a lot of processing power and hard drive space.\\n\\nOver the years I've built up several stereotypes about different brands, operating systems, products... Recently, my mind has been opened back up and I'm willing to take a look at anything, even a Dell or an Asus.\\n\\nIt's recently been brought to my attention that Macs are actually pretty good. I've always been a notorious Windows-only-guy. I finally decided to bite my tongue and take a look under the hood, and my god are these things powerful... I guess it really does help making everything but the processor in-house.\\n\\nAnywho, what I really need is suggestions that might work well for my major, hopefully staying under a budget of $1600. Also, what are the big differences between a MacBook and  MacBook Pro? [summary]:</td>\n",
       "      <td>A high school senior who is going to major in Computer Network Information Security and Digital Forensics needs a laptop that is powerful enough to run virtual desktops. He is open to suggestions of any brands, but prefers Macs. He is looking for a laptop under $1600 and wants to know the difference between MacBook and</td>\n",
       "      <td>Been the go to \"computer kid\" in high school. Majoring in Computer Network Information Security and Digital Forensics. Need suggestions for a laptop under 1600. What are the big differences between a MacBook and MacBook Pro</td>\n",
       "    </tr>\n",
       "    <tr>\n",
       "      <th>2</th>\n",
       "      <td>Summarize in less than 50 words.\\n\\n\\nSo I graduated in may 2014 in the DC area but couldn't start applying to jobs till April of this year due to family circumstances. So far I've applied to nearly 50+ places, 4 recruiters contacted me and added me to their available candidates list after a small interview (one of them got me a small office assignment but that's over) and gotten two interviews by myself (none of which panned out). I have experience in office software and am pretty well versed in excel (i'd say a little less than advanced but a lot more than proficient) and advanced mathematics. I have a GPA higher than 3 but lower than 3.5 which I don't mention in my resume. Could that be it? \\n\\nI don't understand what I'm doing wrong. So far I've been applying to anything remotely related with data, analysis, finance at entry level but I barely get any response. Data entry and admin assistant positions are no different. I also write cover letters for almost every place. I also don't know many people here since my family isn't really well connected enough for me to have great networking opportunities. I really don't know what to do next. I can't imagine how people applying to over 200-400 places deal with the frustrating and emotionally draining experience. I would really appreciate some advice from recent econ/finance grads or hiring personnel. [summary]:</td>\n",
       "      <td>Graduated in May 2014, but couldn't start applying to jobs till April of this year. Applied to nearly 50 places, but only got 2 interviews. GPA is higher than 3 but lower than 3.5. Don't know what I'm doing wrong.</td>\n",
       "      <td>Graduated in may 2014. Applied to nearly 50+ places for data, analysis finance entry level. Barely get any response. Don't know what to do next. Would appreciate advice from recent econ/finance grads or hiring personnel.</td>\n",
       "    </tr>\n",
       "    <tr>\n",
       "      <th>3</th>\n",
       "      <td>Summarize in less than 50 words.\\n\\n\\nHello /r/jobs, I graduated a few months ago and had no luck so far to get a job in marketing/sales. \\n\\nThere's a small local company (perhaps 30 employees) but they are actually pretty successful in what they're doing (known worldwide). I checked their website and it's awful. Looks like a website from the early 2000's. So I guess they are not pretty good in (online-)marketing. \\n\\nI would like to do a cold application (not sure if they are looking for a marketing guy) but I had no luck with this kind of application in the past. That's why I thought I try something different. I have good skills in photoshop, indesign and illustrator. As a teenager I also built websites using HTML, so I thought I build a dummy website fitted to their company and attach some screenshots to my application.\\n\\nWhat do you think? I this a feasible idea or will they be offended?\\n\\nThank you very much in advance. [summary]:</td>\n",
       "      <td>Graduated a few months ago, looking for a job in marketing/sales. Found a small local company that is successful but has an awful website. I want to apply for a marketing job but not sure if they are hiring. I thought of building a dummy website for them and attach some screenshots to my application.</td>\n",
       "      <td>Graduated a few months ago. No luck so far to get a job in marketing/sales. Thought to build a dummy website fitted to the company and attach some screenshots to my application. What do you think?</td>\n",
       "    </tr>\n",
       "    <tr>\n",
       "      <th>4</th>\n",
       "      <td>Summarize in less than 50 words.\\n\\n\\nHello!\\n\\nI hope that someone can lend me some advice for a situation that I find myself in. Here's my situation:\\n\\nAbout 10 years ago as I was traveling, I applied for my first credit card which was an AMEX delta card. For the years after, I traveled often, and got benefits from this card.\\n\\nNow, after I have recently graduated college, and landed a full time job, I no longer have time to travel as much, and therefore have no need to use the Delta card. Last year I paid off my balance with the card, and haven't used it since.\\n\\nRecently, I had to pay the $95 annual fee, and realized that I should perhaps consider another credit card. I thought about closing this account and applying for a cash rewards card.\\n\\nNow my issue is that this is my ONLY and OLDEST credit card account. I would like to close the account and apply for a Bank of America cash rewards card as my checking/savings accounts are with them. However, I am concerned with how this will affect my credit report.\\n\\nWill closing this account greatly affect my credit score?\\n\\nI even spoke with the reps at AMEX about downgrading to a cash rewards card with no annual fee, and apparently I cannot do this as my AMEX card is linked with the Delta account. I do not want this card, I'm stuck in a pickle...\\n\\nAny advice would be appreciated! [summary]:</td>\n",
       "      <td>The author has an AMEX delta card which has an annual fee. The author wants to close the account and apply for a cash rewards card. However, the author is concerned about how this will affect their credit score.</td>\n",
       "      <td>About 10 years ago applied for my first credit card AMEX delta card. No longer have time to travel as much. Thinking of closing the account and apply for a cash rewards card. Any advice would be appreciated.</td>\n",
       "    </tr>\n",
       "  </tbody>\n",
       "</table>\n",
       "</div>"
      ],
      "text/plain": [
       "                                                                                                                                                                                                                                                                                                                                                                                                                                                                                                                                                                                                                                                                                                                                                                                                                                                                                                                                                                                                                                                                                                                                                                                                                                                                                                                                                                                                                                                                                                                                                                                                                                                                                                                                                                                                                                                                          prompt  \\\n",
       "0                                                                                                                                                                                                                                                                                                                                                                                                                                                                                                                                                                                                                                                                                                                                                                                                                                                                                                                                                                                                                                                                                                                                                                                                                                                                   Summarize in less than 50 words.\\n\\n\\nBefore anything, not a sad story or anything. My country's equivalent to Valentine's Day is coming and I had this pretty simple idea to surprise my girlfriend and it would involve giving her some roses. The thing is, although I know she would appreciate my intention in and of itself, I don't know if she would like the actual flowers and such, so I wanted to find out if she likes roses and if she would like getting some, but without her realizing it so as not to spoil the surprise. Any ideas on how to get that information out of her? [summary]:    \n",
       "1  Summarize in less than 50 words.\\n\\n\\nFor most of high school, I've been the go to \"computer kid.\" I'll be the first to admit that I know a lot about how computers work, and often fix things for teachers before the IT guys have a chance to get a whack at them. I worked at a computer repair shop for half a year as a technician. I've done the typical tech guy thing and drooled over new computers that come out (read: Wired/PopSci/2600 articles and centerfolds). \\n\\nThat said, I have NO IDEA what kind of computer to get for college. I've always wanted to buy a ton of parts and build my own \"super\" desktop, but I for sure need a laptop. If everything goes according to plan, I'm enrolling at Champlain College next Fall to double major in Computer Network Information Security and Digital Forensics. \\n\\nA lot of you probably already know this, but this major involves a lot of virtual desktops. Essentially I set up entire networks on my own rig and then go in and play around with them, all from one computer. It takes a lot of processing power and hard drive space.\\n\\nOver the years I've built up several stereotypes about different brands, operating systems, products... Recently, my mind has been opened back up and I'm willing to take a look at anything, even a Dell or an Asus.\\n\\nIt's recently been brought to my attention that Macs are actually pretty good. I've always been a notorious Windows-only-guy. I finally decided to bite my tongue and take a look under the hood, and my god are these things powerful... I guess it really does help making everything but the processor in-house.\\n\\nAnywho, what I really need is suggestions that might work well for my major, hopefully staying under a budget of $1600. Also, what are the big differences between a MacBook and  MacBook Pro? [summary]:    \n",
       "2                                                                                                                                                                                                                                                                                                                                                                                                                                          Summarize in less than 50 words.\\n\\n\\nSo I graduated in may 2014 in the DC area but couldn't start applying to jobs till April of this year due to family circumstances. So far I've applied to nearly 50+ places, 4 recruiters contacted me and added me to their available candidates list after a small interview (one of them got me a small office assignment but that's over) and gotten two interviews by myself (none of which panned out). I have experience in office software and am pretty well versed in excel (i'd say a little less than advanced but a lot more than proficient) and advanced mathematics. I have a GPA higher than 3 but lower than 3.5 which I don't mention in my resume. Could that be it? \\n\\nI don't understand what I'm doing wrong. So far I've been applying to anything remotely related with data, analysis, finance at entry level but I barely get any response. Data entry and admin assistant positions are no different. I also write cover letters for almost every place. I also don't know many people here since my family isn't really well connected enough for me to have great networking opportunities. I really don't know what to do next. I can't imagine how people applying to over 200-400 places deal with the frustrating and emotionally draining experience. I would really appreciate some advice from recent econ/finance grads or hiring personnel. [summary]:    \n",
       "3                                                                                                                                                                                                                                                                                                                                                                                                                                                                                                                                                                                                                                                                                                                                                                                                                                                                                      Summarize in less than 50 words.\\n\\n\\nHello /r/jobs, I graduated a few months ago and had no luck so far to get a job in marketing/sales. \\n\\nThere's a small local company (perhaps 30 employees) but they are actually pretty successful in what they're doing (known worldwide). I checked their website and it's awful. Looks like a website from the early 2000's. So I guess they are not pretty good in (online-)marketing. \\n\\nI would like to do a cold application (not sure if they are looking for a marketing guy) but I had no luck with this kind of application in the past. That's why I thought I try something different. I have good skills in photoshop, indesign and illustrator. As a teenager I also built websites using HTML, so I thought I build a dummy website fitted to their company and attach some screenshots to my application.\\n\\nWhat do you think? I this a feasible idea or will they be offended?\\n\\nThank you very much in advance. [summary]:    \n",
       "4                                                                                                                                                                                                                                                                                                                                                                                                                                                      Summarize in less than 50 words.\\n\\n\\nHello!\\n\\nI hope that someone can lend me some advice for a situation that I find myself in. Here's my situation:\\n\\nAbout 10 years ago as I was traveling, I applied for my first credit card which was an AMEX delta card. For the years after, I traveled often, and got benefits from this card.\\n\\nNow, after I have recently graduated college, and landed a full time job, I no longer have time to travel as much, and therefore have no need to use the Delta card. Last year I paid off my balance with the card, and haven't used it since.\\n\\nRecently, I had to pay the $95 annual fee, and realized that I should perhaps consider another credit card. I thought about closing this account and applying for a cash rewards card.\\n\\nNow my issue is that this is my ONLY and OLDEST credit card account. I would like to close the account and apply for a Bank of America cash rewards card as my checking/savings accounts are with them. However, I am concerned with how this will affect my credit report.\\n\\nWill closing this account greatly affect my credit score?\\n\\nI even spoke with the reps at AMEX about downgrading to a cash rewards card with no annual fee, and apparently I cannot do this as my AMEX card is linked with the Delta account. I do not want this card, I'm stuck in a pickle...\\n\\nAny advice would be appreciated! [summary]:    \n",
       "\n",
       "                                                                                                                                                                                                                                                                                                                         base_model  \\\n",
       "0                                                                                                                                                             The author wants to surprise his girlfriend with roses on Valentine's Day but he doesn't know if she likes roses. He wants to find out without spoiling the surprise.   \n",
       "1  A high school senior who is going to major in Computer Network Information Security and Digital Forensics needs a laptop that is powerful enough to run virtual desktops. He is open to suggestions of any brands, but prefers Macs. He is looking for a laptop under $1600 and wants to know the difference between MacBook and   \n",
       "2                                                                                                             Graduated in May 2014, but couldn't start applying to jobs till April of this year. Applied to nearly 50 places, but only got 2 interviews. GPA is higher than 3 but lower than 3.5. Don't know what I'm doing wrong.   \n",
       "3                     Graduated a few months ago, looking for a job in marketing/sales. Found a small local company that is successful but has an awful website. I want to apply for a marketing job but not sure if they are hiring. I thought of building a dummy website for them and attach some screenshots to my application.   \n",
       "4                                                                                                               The author has an AMEX delta card which has an annual fee. The author wants to close the account and apply for a cash rewards card. However, the author is concerned about how this will affect their credit score.   \n",
       "\n",
       "                                                                                                                                                                                                                        tuned_model  \n",
       "0  My country's equivalent to Valentine's Day is coming. Want to surprise my girlfriend with roses but don't know if she would like getting some. Any ideas on how to get that information out of her without spoiling the surprise  \n",
       "1   Been the go to \"computer kid\" in high school. Majoring in Computer Network Information Security and Digital Forensics. Need suggestions for a laptop under 1600. What are the big differences between a MacBook and MacBook Pro  \n",
       "2      Graduated in may 2014. Applied to nearly 50+ places for data, analysis finance entry level. Barely get any response. Don't know what to do next. Would appreciate advice from recent econ/finance grads or hiring personnel.  \n",
       "3                              Graduated a few months ago. No luck so far to get a job in marketing/sales. Thought to build a dummy website fitted to the company and attach some screenshots to my application. What do you think?  \n",
       "4                   About 10 years ago applied for my first credit card AMEX delta card. No longer have time to travel as much. Thinking of closing the account and apply for a cash rewards card. Any advice would be appreciated.  "
      ]
     },
     "execution_count": 29,
     "metadata": {},
     "output_type": "execute_result"
    }
   ],
   "source": [
    "# Print the results\n",
    "results"
   ]
  },
  {
   "cell_type": "code",
   "execution_count": 30,
   "id": "43df33fa-4b62-484b-af9d-c557938699ca",
   "metadata": {},
   "outputs": [],
   "source": [
    "results.to_excel(\"C:/Users/MD. REZUWAN HASAN/Desktop/Jupyter Notebooks/rlhf/outputs/results.xlsx\",index = False)"
   ]
  },
  {
   "cell_type": "code",
   "execution_count": null,
   "id": "34a8594c-091b-41bf-bc22-f7c1dbcdeabf",
   "metadata": {},
   "outputs": [],
   "source": []
  }
 ],
 "metadata": {
  "kernelspec": {
   "display_name": "Python 3 (ipykernel)",
   "language": "python",
   "name": "python3"
  },
  "language_info": {
   "codemirror_mode": {
    "name": "ipython",
    "version": 3
   },
   "file_extension": ".py",
   "mimetype": "text/x-python",
   "name": "python",
   "nbconvert_exporter": "python",
   "pygments_lexer": "ipython3",
   "version": "3.11.7"
  }
 },
 "nbformat": 4,
 "nbformat_minor": 5
}
